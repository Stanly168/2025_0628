{
 "cells": [
  {
   "cell_type": "code",
   "execution_count": null,
   "id": "1f6e1c7f",
   "metadata": {},
   "outputs": [],
   "source": [
    "from google import genai\n",
    "\n",
    "client = genai.Client()\n",
    "response = client.models.generate_content_stream(\n",
    "    model=\"gemini-2.5-flash\",\n",
    "    contents=[\"AI是如何工作的(請使用繁體中文回答)?\"],\n",
    ")\n",
    "for chunk in response:\n",
    "    print(chunk.text)"
   ]
  },
  {
   "cell_type": "code",
   "execution_count": 1,
   "id": "75dedbe4",
   "metadata": {},
   "outputs": [
    {
     "data": {
      "text/markdown": [
       "這是一隻**棕熊** (Zōngxióng)，在北美洲，它的一個亞種特別被稱為**灰熊** (Huīxióng)。\n",
       "\n",
       "**關於棕熊的一些資訊：**\n",
       "\n",
       "1.  **分佈廣泛：** 棕熊是地球上分佈最廣的熊科動物之一，主要棲息在北美洲（如美國阿拉斯加、加拿大）、歐洲和亞洲的森林、山區、草地及苔原等各種環境中。\n",
       "2.  **體型龐大：** 棕熊是大型哺乳動物，體重可從幾百公斤到上千公斤不等，雄性通常比雌性大很多。它們擁有強壯的身體、厚重的棕色毛皮（顏色深淺不一，從金棕色到深棕色甚至黑色）、短尾巴和圓形耳朵。北美灰熊（Grizzly Bear）的肩部通常有一個明顯的駝峰，這是它們強大肌肉的體現。\n",
       "3.  **雜食性動物：** 棕熊是典型的雜食性動物，食性非常廣泛。它們的食物包括漿果、堅果、植物根莖、嫩芽、蘑菇等植物性食物，也捕食魚類（特別是鮭魚，它們捕魚的技巧非常嫻熟）、昆蟲、小型哺乳動物，甚至腐肉。它們是機會主義的獵食者。\n",
       "4.  **行為特徵：**\n",
       "    *   **獨居：** 大多數棕熊是獨居動物，只在繁殖季節或有幼崽時才會聚在一起。\n",
       "    *   **冬眠：** 在較冷的地區，棕熊會進入冬眠狀態，在洞穴或巢穴中度過漫長的冬季。\n",
       "    *   **嗅覺和聽覺靈敏：** 它們的嗅覺和聽覺非常靈敏，遠超人類，這對於尋找食物和感知周圍環境至關重要。視力相對較差。\n",
       "    *   **力量強大：** 儘管體型龐大，棕熊奔跑速度非常快（可達每小時56公里），力量驚人，能夠輕鬆擊倒大型獵物或破壞堅硬的物體。\n",
       "5.  **保護狀況：** 儘管全球範圍內棕熊的總體數量較為穩定，但在某些地區，由於棲息地喪失和人類活動（如非法捕獵、與人類衝突）的影響，它們仍然面臨威脅。\n",
       "\n",
       "圖中這隻棕熊正站在一片草地上，警覺地望向前方，展現了其典型的外形特徵。"
      ],
      "text/plain": [
       "<IPython.core.display.Markdown object>"
      ]
     },
     "metadata": {},
     "output_type": "display_data"
    }
   ],
   "source": [
    "import PIL.Image\n",
    "from google import genai\n",
    "from IPython.display import display, Markdown\n",
    "\n",
    "client = genai.Client()\n",
    "image = PIL.Image.open('bear.jpg')\n",
    "response = client.models.generate_content(\n",
    "    model=\"gemini-2.5-flash\",\n",
    "    contents=[image, \"請告訴我這是什麼動物,還有關於它的一些資訊\"]\n",
    ")\n",
    "\n",
    "display(Markdown(response.text))"
   ]
  },
  {
   "cell_type": "code",
   "execution_count": 3,
   "id": "9b3b65b7",
   "metadata": {},
   "outputs": [
    {
     "name": "stdout",
     "output_type": "stream",
     "text": [
      "好的，明白了！您家裡有兩隻狗狗。\n",
      "\n",
      "牠們是什麼品種的呢？多大了？\n",
      "\n",
      "您有什麼想和我分享的，或是需要關於狗狗照顧、訓練或其他方面的資訊或建議嗎？根據您之前提供的資訊，您家裡有2隻狗。\n",
      "\n",
      "如果每隻狗都有完整的四隻爪子，那麼您家裡總共有：\n",
      "\n",
      "2隻狗 x 4隻爪子/狗 = **8隻爪子**。=========chat內的記憶=============\n",
      "\n",
      "role - user: 我有2隻狗在我的房子內\n",
      "role - model: 好的，明白了！您家裡有兩隻狗狗。\n",
      "\n",
      "牠們是什麼品種的呢？多大了？\n",
      "\n",
      "您有什麼想和我分享的，或是需要關於狗狗照顧、訓練或其他方面的資訊或建議嗎？\n",
      "role - user: 在我家裏有多少爪子?(請使用繁體中文回答,不要和我開玩笑)\n",
      "role - model: 根據您之前提供的資訊，您家裡有2隻狗。\n",
      "\n",
      "如果每隻狗都有完整的四隻爪子，那麼您家裡總共有：\n",
      "\n",
      "2隻狗 x 4隻爪子/狗 = **8隻爪\n",
      "role - model: 子**。\n"
     ]
    }
   ],
   "source": [
    "from google import genai\n",
    "\n",
    "client = genai.Client()\n",
    "chat = client.chats.create(model=\"gemini-2.5-flash\")\n",
    "\n",
    "response = chat.send_message_stream(\"我有2隻狗在我的房子內\")\n",
    "for chunk in response:\n",
    "    print(chunk.text, end=\"\")\n",
    "\n",
    "response = chat.send_message_stream('在我家裏有多少爪子?(請使用繁體中文回答,不要和我開玩笑)')\n",
    "for chunk in response:\n",
    "    print(chunk.text, end=\"\")\n",
    "\n",
    "print(\"=========chat內的記憶=============\\n\")\n",
    "for message in chat.get_history():\n",
    "    print(f'role - {message.role}', end=\": \")\n",
    "    print(message.parts[0].text)"
   ]
  }
 ],
 "metadata": {
  "kernelspec": {
   "display_name": "line_bot",
   "language": "python",
   "name": "python3"
  },
  "language_info": {
   "codemirror_mode": {
    "name": "ipython",
    "version": 3
   },
   "file_extension": ".py",
   "mimetype": "text/x-python",
   "name": "python",
   "nbconvert_exporter": "python",
   "pygments_lexer": "ipython3",
   "version": "3.12.11"
  }
 },
 "nbformat": 4,
 "nbformat_minor": 5
}
