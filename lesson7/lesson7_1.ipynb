{
 "cells": [
  {
   "cell_type": "code",
   "execution_count": null,
   "id": "83e0a671",
   "metadata": {},
   "outputs": [],
   "source": [
    "\t\n",
    "from google import genai\n",
    "import os\n",
    "from IPython.display import display, Markdown, Latex\n",
    "\n",
    "client = genai.Client(api_key=os.environ['GEMINI_API_KEY'])\n",
    "# print(type(client))\n",
    "# print(type(client.models))\n",
    "# for model in client.models.list():\n",
    "#     if \"generateContent\" in model.supported_actions:\n",
    "#         print(model.name)\n",
    "response = client.models.generate_content(\n",
    "    model=\"gemini-2.5-flash\",\n",
    "    contents=\"AI是如何工作的(請使用繁體中文回答)?\"\n",
    ")\n",
    "\n",
    "print(response.text)\n",
    "\n",
    "#display(Markdown(response.text))"
   ]
  },
  {
   "cell_type": "code",
   "execution_count": null,
   "id": "04e61124",
   "metadata": {},
   "outputs": [],
   "source": [
    "from google import genai\n",
    "from google.genai import types\n",
    "\n",
    "client = genai.Client()\n",
    "\n",
    "system_instruction = \"\"\"\n",
    "你是個友善且樂於助人的助理。\n",
    "回答時,請回答繁體中文和英文,\n",
    "一行繁體中文,一行英文翻譯\n",
    "\"\"\"\n",
    "\n",
    "\n",
    "\n",
    "thinking = types.ThinkingConfig(thinking_budget=100)\n",
    "\n",
    "config = types.GenerateContentConfig(\n",
    "    thinking_config=thinking, # Disables thinking\n",
    "    temperature=1,\n",
    "    top_k=40,\n",
    "    top_p=1,\n",
    "    system_instruction=system_instruction\n",
    "    \n",
    ")\n",
    "\n",
    "\n",
    "\n",
    "response = client.models.generate_content(\n",
    "    model=\"gemini-2.5-flash\",\n",
    "    contents=[\"AI是如何工作的?\"],\n",
    "    config=config\n",
    ")\n",
    "print(response.text)"
   ]
  }
 ],
 "metadata": {
  "kernelspec": {
   "display_name": "line_bot",
   "language": "python",
   "name": "python3"
  },
  "language_info": {
   "codemirror_mode": {
    "name": "ipython",
    "version": 3
   },
   "file_extension": ".py",
   "mimetype": "text/x-python",
   "name": "python",
   "nbconvert_exporter": "python",
   "pygments_lexer": "ipython3",
   "version": "3.12.11"
  }
 },
 "nbformat": 4,
 "nbformat_minor": 5
}
