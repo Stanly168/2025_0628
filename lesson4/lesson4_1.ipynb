{
 "cells": [
  {
   "cell_type": "markdown",
   "id": "397888f2",
   "metadata": {},
   "source": [
    "1 ### python 儲存資料\n",
    "2 - 變數\n",
    "3 - list\n",
    "4 - dict"
   ]
  },
  {
   "cell_type": "code",
   "execution_count": 1,
   "id": "f6502a3e",
   "metadata": {},
   "outputs": [
    {
     "name": "stdout",
     "output_type": "stream",
     "text": [
      "建立變數\n",
      "變數內容:Python\n",
      "變數類型:-<class 'str'>\n",
      "變數長度:*6\n"
     ]
    }
   ],
   "source": [
    "print(\"建立變數\")\n",
    "name = \"Python\"\n",
    "print(\"變數內容:\", name, sep=\"\")\n",
    "print(\"變數類型:\", type(name), sep=\"-\")\n",
    "print(\"變數長度:\", len(name), sep=\"*\")"
   ]
  },
  {
   "cell_type": "code",
   "execution_count": 2,
   "id": "41b07a88",
   "metadata": {},
   "outputs": [
    {
     "name": "stdout",
     "output_type": "stream",
     "text": [
      "1 | 5.0 | Hello | True.\n"
     ]
    }
   ],
   "source": [
    "print(1, 5.0, \"Hello\", True, end=\".\\n\", sep=\" | \")"
   ]
  }
 ],
 "metadata": {
  "kernelspec": {
   "display_name": "line_bot",
   "language": "python",
   "name": "python3"
  },
  "language_info": {
   "codemirror_mode": {
    "name": "ipython",
    "version": 3
   },
   "file_extension": ".py",
   "mimetype": "text/x-python",
   "name": "python",
   "nbconvert_exporter": "python",
   "pygments_lexer": "ipython3",
   "version": "3.12.11"
  }
 },
 "nbformat": 4,
 "nbformat_minor": 5
}
