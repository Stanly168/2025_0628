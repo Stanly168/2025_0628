{
 "cells": [
  {
   "cell_type": "markdown",
   "id": "397888f2",
   "metadata": {},
   "source": [
    "1 ### python 儲存資料\n",
    "2 - 變數\n",
    "3 - list\n",
    "4 - dict"
   ]
  },
  {
   "cell_type": "code",
   "execution_count": null,
   "id": "f6502a3e",
   "metadata": {},
   "outputs": [],
   "source": []
  }
 ],
 "metadata": {
  "kernelspec": {
   "display_name": "line_bot",
   "language": "python",
   "name": "python3"
  },
  "language_info": {
   "name": "python",
   "version": "3.12.11"
  }
 },
 "nbformat": 4,
 "nbformat_minor": 5
}
