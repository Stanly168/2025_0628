{
 "cells": [
  {
   "cell_type": "code",
   "execution_count": null,
   "id": "71f4517b",
   "metadata": {},
   "outputs": [],
   "source": [
    "import requests\n",
    "\n",
    "def chat_with_ollama(prompt: str):\n",
    "    url = \"http://localhost:11434/api/generate\"\n",
    "    payload = {\n",
    "        \"model\": \"gemma3:1b\",\n",
    "        \"prompt\": prompt,\n",
    "        \"stream\": False,\n",
    "        \"options\": { #參考說明1\n",
    "            \"temperature\": 0.7,\n",
    "            \"top_p\": 0.9,\n",
    "            \"top_k\": 50,\n",
    "        },\n",
    "        \"max_tokens\": 100,\n",
    "        \"format\": \"json\",\n",
    "    }\n",
    "\n",
    "    response = requests.post(url, json=payload)\n",
    "    result = response.json()\n",
    "    print(\"💬 AI 回應：\")\n",
    "    # Print the whole result for debugging\n",
    "    print(result)\n",
    "    # Try to print the 'response' key if it exists, otherwise print possible keys\n",
    "    if \"response\" in result:\n",
    "        print(result[\"response\"])\n",
    "    elif \"message\" in result:\n",
    "        print(result[\"message\"])\n",
    "    elif \"content\" in result:\n",
    "        print(result[\"content\"])\n",
    "    else:\n",
    "        print(\"No expected key found in response. Available keys:\", result.keys())\n",
    "\n",
    "#範例輸入\n",
    "chat_with_ollama(\"請問你是誰？\")  # Example input"
   ]
  },
  {
   "cell_type": "code",
   "execution_count": null,
   "id": "ed7445b6",
   "metadata": {},
   "outputs": [],
   "source": [
    "import requests\n",
    "\n",
    "url = 'https://github.com/open-webui/open-webui'\n",
    "response = requests.get(url) #引數值的呼叫\n",
    "#type(response)\n",
    "if response.status_code == 200:\n",
    "    print(\"下載成功\")\n",
    "    print(response.text)\n",
    "\n",
    "#requests.get(url=url) #引數名稱呼叫"
   ]
  },
  {
   "cell_type": "code",
   "execution_count": null,
   "id": "314b210f",
   "metadata": {},
   "outputs": [],
   "source": [
    "import requests\n",
    "from IPython.display import Markdown, display\n",
    "\n",
    "url = \"http://localhost:11434/api/generate\"\n",
    "response = requests.post(url,json={\n",
    "  \"model\": \"gemma3:1b\",\n",
    "  \"prompt\":\"天空為什麼是藍的?\",\n",
    "  \"stream\": False,\n",
    "})\n",
    "if response.status_code == 200:\n",
    "    print(\"成功\")\n",
    "    result = response.json()\n",
    "    display(Markdown(result['response']))\n",
    "else:\n",
    "    print(\"失敗\")\n",
    "    print(\"原因\",response.status_code)"
   ]
  },
  {
   "cell_type": "code",
   "execution_count": 4,
   "id": "8167c500",
   "metadata": {},
   "outputs": [
    {
     "name": "stdout",
     "output_type": "stream",
     "text": [
      "tw\n",
      "jp\n",
      "hk\n",
      "Taiwan\n",
      "Japan\n",
      "Hong kong\n",
      "Taiwan tw\n",
      "Japan jp\n",
      "Hong kong hk\n"
     ]
    }
   ],
   "source": [
    "codes = {\n",
    "    \"tw\":\"Taiwan\",\n",
    "    \"jp\":\"Japan\",\n",
    "    \"hk\":\"Hong kong\"\n",
    "}\n",
    "codes[\"tw\"]\n",
    "codes[\"jp\"]\n",
    "codes['hk']\n",
    "codes.keys()\n",
    "for item in codes.keys():\n",
    "    print(item)\n",
    "\n",
    "for value in codes.values():\n",
    "    print(value)\n",
    "\n",
    "for (code,name) in codes.items():\n",
    "    print(name, code)"
   ]
  }
 ],
 "metadata": {
  "kernelspec": {
   "display_name": "line_bot",
   "language": "python",
   "name": "python3"
  },
  "language_info": {
   "codemirror_mode": {
    "name": "ipython",
    "version": 3
   },
   "file_extension": ".py",
   "mimetype": "text/x-python",
   "name": "python",
   "nbconvert_exporter": "python",
   "pygments_lexer": "ipython3",
   "version": "3.12.11"
  }
 },
 "nbformat": 4,
 "nbformat_minor": 5
}
