{
 "cells": [
  {
   "cell_type": "code",
   "execution_count": 2,
   "id": "baf02885",
   "metadata": {},
   "outputs": [
    {
     "name": "stdout",
     "output_type": "stream",
     "text": [
      "===========AI回應==============\n"
     ]
    },
    {
     "data": {
      "text/markdown": [
       "好，用簡單的方式解釋 Python 的函式：\n",
       "\n",
       "**想像一下，Python 的函式就像是一些工具，可以做一些特定的工作。**\n",
       "\n",
       "* **你可以把這些工具放在一個盒子里 (函數)**，然后把需要完成的工作寫在盒子里。\n",
       "* **這些工具 (函式) 就像小手，可以執行特定任務。**\n",
       "* **你只需要告訴它們你想讓它們做什麼，它們就會執行。**\n",
       "\n",
       "**更簡單的說：**\n",
       "\n",
       "一個函式就是一個有約束的程式碼片段，可以做一些事情。\n",
       "\n",
       "**舉例：**\n",
       "\n",
       "假設你想要計算一個數字：\n",
       "\n",
       "```python\n",
       "def add(x, y):\n",
       "  \"\"\"這個函數計算兩個數字的和\"\"\"\n",
       "  result = x + y\n",
       "  return result\n",
       "\n",
       "# 創建一個數字\n",
       "num1 = 5\n",
       "num2 = 3\n",
       "\n",
       "# 調用函式\n",
       "sum_result = add(num1, num2)\n",
       "\n",
       "# 輸出結果\n",
       "print(\"結果是:\", sum_result)  # 輸出: 結果是: 8\n",
       "```\n",
       "\n",
       "*  `def add(x, y):`  這行是函式的定義，它告訴 Python 要寫一個叫做 `add` 的函式。\n",
       "*  `\"\"\"這個函數計算兩個數字的和\"\"\"`  這是一段註解，說明函式的作用。\n",
       "*  `result = x + y`  這行是函式的核心部分，它計算 `x` 和 `y` 的和，並存儲到變數 `result` 中。\n",
       "*  `return result`  這行是函式的輸出，它返回計算結果。\n",
       "*  `num1 = 5` 和 `num2 = 3`  這行是創建兩個數字的例子。\n",
       "*  `sum_result = add(num1, num2)`  這行是調用函式，將 `num1` 和 `num2` 的值傳遞給函式，讓函式計算結果並儲存到 `sum_result` 中。\n",
       "*  `print(\"結果是:\", sum_result)`  這行是輸出結果，讓你看到計算結果。\n",
       "\n",
       "**總結：**\n",
       "\n",
       "Python 的函式就像的是“小幫手”，可以協助你完成程式碼的特定任務，就像你的手和工具一樣。  你可以重複使用這些函式，減少寫重複程式碼。\n",
       "\n",
       "希望這個解釋能讓你理解 Python 函式的基本概念。 只要你記住，它們是程式碼的“小靈鬼”，可以幫助你完成程式碼。\n"
      ],
      "text/plain": [
       "<IPython.core.display.Markdown object>"
      ]
     },
     "metadata": {},
     "output_type": "display_data"
    }
   ],
   "source": [
    "\n",
    "import requests\n",
    "#import pprint\n",
    "from pprint import pprint\n",
    "from IPython.display import Markdown, display\n",
    "\n",
    "def generate_with_ollama(prompt:str)->None:\n",
    "    url = \"http://localhost:11434/api/generate\"\n",
    "    payload = {\n",
    "        \"model\":\"gemma3:1b\",\n",
    "        \"prompt\":prompt,\n",
    "        \"stream\":False\n",
    "    }\n",
    "    response = requests.post(url,json=payload)\n",
    "    result = response.json()\n",
    "    #print(type(result))\n",
    "    #pprint(result)\n",
    "    print(\"===========AI回應==============\")\n",
    "    display(Markdown(result['response']))\n",
    "\n",
    "generate_with_ollama(\"請用簡單的方式解釋什麼是Python的函式？\")"
   ]
  }
 ],
 "metadata": {
  "kernelspec": {
   "display_name": "line_bot",
   "language": "python",
   "name": "python3"
  },
  "language_info": {
   "codemirror_mode": {
    "name": "ipython",
    "version": 3
   },
   "file_extension": ".py",
   "mimetype": "text/x-python",
   "name": "python",
   "nbconvert_exporter": "python",
   "pygments_lexer": "ipython3",
   "version": "3.12.11"
  }
 },
 "nbformat": 4,
 "nbformat_minor": 5
}
