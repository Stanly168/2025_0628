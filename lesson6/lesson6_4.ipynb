{
 "cells": [
  {
   "cell_type": "code",
   "execution_count": 1,
   "id": "baf02885",
   "metadata": {},
   "outputs": [
    {
     "name": "stdout",
     "output_type": "stream",
     "text": [
      "===========AI回應==============\n"
     ]
    },
    {
     "data": {
      "text/markdown": [
       "想像一下 Python 的函式就像是 **工具箱**，裡面裝著各種各樣的任務，你可以用它們來做一些事情。\n",
       "\n",
       "**簡單來說，Python 函式就是一個特別的指令，告訴 Python 程式執行什麼動作。**\n",
       "\n",
       "以下是一些更具體的例子：\n",
       "\n",
       "* **計算一個數字：**  `2 + 2` 是一個函式，它會將兩個數字加起來。\n",
       "* **顯示一個文字：** `print(\"Hello, world!\")` 是一個函式，它會將文字 \"Hello, world!\" 顯示在螢幕上。\n",
       "* **讀取檔案：** `with open(\"my_file.txt\", \"r\") as file:` 是一個函式，它會讀取一個檔案，像是在看書一樣。\n",
       "* **排序列表：** `my_list.sort()`  是一個函式，它可以把列表裡的數字按順序排列。\n",
       "\n",
       "**關鍵點：**\n",
       "\n",
       "* **函式有參數：**  你給函式傳遞一些東西，例如數字、檔案名、文字等等。\n",
       "* **函式有返回值：**  函式做完後，它會給你一個結果，例如一個數字、一個文字、或者一個檔案。\n",
       "* **函式可以被多個次：** 你可以多次地叫一個函式，每次都會得到不同的結果。\n",
       "\n",
       "**總之， Python 函式就是讓程式自動執行特定任務的指令，就像是程式的幫手！**\n",
       "\n",
       "你可以想像成一個廚師，用一些配料和步驟 (函式)，製作出美味的菜餚 (程式的結果)。\n",
       "\n",
       "希望這個解釋能幫助你理解 Python 函式!\n"
      ],
      "text/plain": [
       "<IPython.core.display.Markdown object>"
      ]
     },
     "metadata": {},
     "output_type": "display_data"
    }
   ],
   "source": [
    "\n",
    "import requests\n",
    "#import pprint\n",
    "from pprint import pprint\n",
    "from IPython.display import Markdown, display\n",
    "\n",
    "def generate_with_ollama(prompt:str)->None:\n",
    "    url = \"http://localhost:11434/api/generate\"\n",
    "    payload = {\n",
    "        \"model\":\"gemma3:1b\",\n",
    "        \"prompt\":prompt,\n",
    "        \"stream\":False\n",
    "    }\n",
    "    response = requests.post(url,json=payload)\n",
    "    result = response.json()\n",
    "    #print(type(result))\n",
    "    #pprint(result)\n",
    "    print(\"===========AI回應==============\")\n",
    "    display(Markdown(result['response']))\n",
    "\n",
    "generate_with_ollama(\"請用簡單的方式解釋什麼是Python的函式？\")"
   ]
  }
 ],
 "metadata": {
  "kernelspec": {
   "display_name": "line_bot",
   "language": "python",
   "name": "python3"
  },
  "language_info": {
   "codemirror_mode": {
    "name": "ipython",
    "version": 3
   },
   "file_extension": ".py",
   "mimetype": "text/x-python",
   "name": "python",
   "nbconvert_exporter": "python",
   "pygments_lexer": "ipython3",
   "version": "3.12.11"
  }
 },
 "nbformat": 4,
 "nbformat_minor": 5
}
